{
 "cells": [
  {
   "cell_type": "markdown",
   "id": "2d8efec6-e496-40fc-952a-bb960cbb3e18",
   "metadata": {},
   "source": [
    "# Melchizedek Ackah-Blay\n",
    "## 05-30-2024\n",
    "## Exam Scores Project - Logistic Regression Portion"
   ]
  },
  {
   "cell_type": "markdown",
   "id": "e2225102-f42b-4727-a1c0-67b9002e14fa",
   "metadata": {},
   "source": [
    "#"
   ]
  },
  {
   "cell_type": "markdown",
   "id": "f0782ccc-7c0a-47ff-98c8-f305644bf310",
   "metadata": {},
   "source": [
    "##### importing libraries"
   ]
  },
  {
   "cell_type": "code",
   "execution_count": 1,
   "id": "bb6d3233-509a-4e89-ac32-47252b248919",
   "metadata": {},
   "outputs": [],
   "source": [
    "import pandas as pd\n",
    "import numpy as np\n",
    "import matplotlib.pyplot as plt\n",
    "import seaborn as sns"
   ]
  },
  {
   "cell_type": "markdown",
   "id": "05c1fb89-e584-4f67-a88c-e2bf6fa49953",
   "metadata": {},
   "source": [
    "##### importing dataset and displaying top rows"
   ]
  },
  {
   "cell_type": "code",
   "execution_count": 3,
   "id": "cf65de2b-4cc4-4aeb-86cc-20d7c2690f86",
   "metadata": {},
   "outputs": [
    {
     "data": {
      "text/html": [
       "<div>\n",
       "<style scoped>\n",
       "    .dataframe tbody tr th:only-of-type {\n",
       "        vertical-align: middle;\n",
       "    }\n",
       "\n",
       "    .dataframe tbody tr th {\n",
       "        vertical-align: top;\n",
       "    }\n",
       "\n",
       "    .dataframe thead th {\n",
       "        text-align: right;\n",
       "    }\n",
       "</style>\n",
       "<table border=\"1\" class=\"dataframe\">\n",
       "  <thead>\n",
       "    <tr style=\"text-align: right;\">\n",
       "      <th></th>\n",
       "      <th>gender</th>\n",
       "      <th>race/ethnicity</th>\n",
       "      <th>parental level of education</th>\n",
       "      <th>lunch</th>\n",
       "      <th>test preparation course</th>\n",
       "      <th>math score</th>\n",
       "      <th>reading score</th>\n",
       "      <th>writing score</th>\n",
       "    </tr>\n",
       "  </thead>\n",
       "  <tbody>\n",
       "    <tr>\n",
       "      <th>0</th>\n",
       "      <td>female</td>\n",
       "      <td>group D</td>\n",
       "      <td>some college</td>\n",
       "      <td>standard</td>\n",
       "      <td>completed</td>\n",
       "      <td>59</td>\n",
       "      <td>70</td>\n",
       "      <td>78</td>\n",
       "    </tr>\n",
       "    <tr>\n",
       "      <th>1</th>\n",
       "      <td>male</td>\n",
       "      <td>group D</td>\n",
       "      <td>associate's degree</td>\n",
       "      <td>standard</td>\n",
       "      <td>none</td>\n",
       "      <td>96</td>\n",
       "      <td>93</td>\n",
       "      <td>87</td>\n",
       "    </tr>\n",
       "    <tr>\n",
       "      <th>2</th>\n",
       "      <td>female</td>\n",
       "      <td>group D</td>\n",
       "      <td>some college</td>\n",
       "      <td>free/reduced</td>\n",
       "      <td>none</td>\n",
       "      <td>57</td>\n",
       "      <td>76</td>\n",
       "      <td>77</td>\n",
       "    </tr>\n",
       "    <tr>\n",
       "      <th>3</th>\n",
       "      <td>male</td>\n",
       "      <td>group B</td>\n",
       "      <td>some college</td>\n",
       "      <td>free/reduced</td>\n",
       "      <td>none</td>\n",
       "      <td>70</td>\n",
       "      <td>70</td>\n",
       "      <td>63</td>\n",
       "    </tr>\n",
       "  </tbody>\n",
       "</table>\n",
       "</div>"
      ],
      "text/plain": [
       "   gender race/ethnicity parental level of education         lunch  \\\n",
       "0  female        group D                some college      standard   \n",
       "1    male        group D          associate's degree      standard   \n",
       "2  female        group D                some college  free/reduced   \n",
       "3    male        group B                some college  free/reduced   \n",
       "\n",
       "  test preparation course  math score  reading score  writing score  \n",
       "0               completed          59             70             78  \n",
       "1                    none          96             93             87  \n",
       "2                    none          57             76             77  \n",
       "3                    none          70             70             63  "
      ]
     },
     "execution_count": 3,
     "metadata": {},
     "output_type": "execute_result"
    }
   ],
   "source": [
    "exams = pd.read_csv(r'/Users/melki/Desktop/exams.csv')\n",
    "exams.head(4)"
   ]
  },
  {
   "cell_type": "markdown",
   "id": "63339091-cbbf-46c0-b44a-91db2cc76e5c",
   "metadata": {},
   "source": [
    "##### cleaning up the data: renaming and removing some columns"
   ]
  },
  {
   "cell_type": "code",
   "execution_count": 6,
   "id": "1adb7474-fe77-4f8f-8951-473fe3c3ab87",
   "metadata": {},
   "outputs": [],
   "source": [
    "exams.rename(columns = {'math score':'math_score','reading score':'reading_score','writing score':'writing_score', 'parental level of education':'parental_education_level','race/ethnicity':'race_or_ethnicity'}, inplace = True)\n"
   ]
  },
  {
   "cell_type": "code",
   "execution_count": 10,
   "id": "aa8957f2-dd0d-4702-92ad-df9bf18c171c",
   "metadata": {},
   "outputs": [],
   "source": [
    "# renaming test preparation course\n",
    "exams.rename(columns = {'test preparation course':'test_prep_course'}, inplace = True)"
   ]
  },
  {
   "cell_type": "code",
   "execution_count": 12,
   "id": "6856756a-d141-4f6d-85b5-4a334aac90b1",
   "metadata": {},
   "outputs": [],
   "source": [
    "# dropping columns not needed for analysis\n",
    "exams.drop(columns = ['lunch','race_or_ethnicity','parental_education_level', 'gender'], inplace = True)"
   ]
  },
  {
   "cell_type": "code",
   "execution_count": 14,
   "id": "1e3ca90d-db75-4f95-a84c-6bbb5a5590a6",
   "metadata": {},
   "outputs": [
    {
     "data": {
      "text/plain": [
       "array(['completed', 'none'], dtype=object)"
      ]
     },
     "execution_count": 14,
     "metadata": {},
     "output_type": "execute_result"
    }
   ],
   "source": [
    "# checking the unique values in test_prep_course, our target variable\n",
    "exams['test_prep_course'].unique()"
   ]
  },
  {
   "cell_type": "code",
   "execution_count": 15,
   "id": "c8499ba7-2e0f-4905-bc49-5efc99afaf2f",
   "metadata": {},
   "outputs": [
    {
     "data": {
      "text/plain": [
       "test_prep_course    0\n",
       "math_score          0\n",
       "reading_score       0\n",
       "writing_score       0\n",
       "dtype: int64"
      ]
     },
     "execution_count": 15,
     "metadata": {},
     "output_type": "execute_result"
    }
   ],
   "source": [
    "# checking for null values\n",
    "exams.isna().sum()"
   ]
  },
  {
   "cell_type": "code",
   "execution_count": 16,
   "id": "51452f3e-01b7-46f6-8419-1dfb06cd20c9",
   "metadata": {},
   "outputs": [],
   "source": [
    "# making 'test_prep_course' a numeric column\n",
    "exams['test_prep_course'] = [1 if values == 'completed' else 0 for values in exams['test_prep_course']]"
   ]
  },
  {
   "cell_type": "code",
   "execution_count": 20,
   "id": "b7762ffd-5e45-4ba2-bda7-ab9e3b9ff403",
   "metadata": {},
   "outputs": [
    {
     "data": {
      "text/plain": [
       "Text(0, 0.5, 'Counts')"
      ]
     },
     "execution_count": 20,
     "metadata": {},
     "output_type": "execute_result"
    },
    {
     "data": {
      "image/png": "[encoded data removed]",
      "text/plain": [
       "<Figure size 400x400 with 1 Axes>"
      ]
     },
     "metadata": {},
     "output_type": "display_data"
    }
   ],
   "source": [
    "# visualizing the counts of 'test_prep_course' column \n",
    "plt.figure(figsize = (4,4))\n",
    "exams['test_prep_course'].value_counts().plot(kind = 'bar', color = ['lightpink', 'lightgreen'])\n",
    "plt.title('Students who prepped vs Students who did not prep')\n",
    "plt.xlabel('Test Prep (0 = No Prep, 1 = Prepped')\n",
    "plt.ylabel('Counts')"
   ]
  },
  {
   "cell_type": "markdown",
   "id": "358d969a-b501-4410-89a0-4a2705de6da6",
   "metadata": {},
   "source": [
    "#"
   ]
  },
  {
   "cell_type": "markdown",
   "id": "bcbd4262-1aca-45b7-9c3b-0a9700897f9d",
   "metadata": {},
   "source": [
    "##### splitting the exams dataset into X and y"
   ]
  },
  {
   "cell_type": "code",
   "execution_count": 21,
   "id": "68b3edd3-5c69-482a-a4bf-c80d05647c97",
   "metadata": {},
   "outputs": [],
   "source": [
    "X = exams.drop(columns = ['test_prep_course'])\n",
    "y = exams['test_prep_course']"
   ]
  },
  {
   "cell_type": "markdown",
   "id": "295d57bf-98a1-4dce-9db4-bb88d300ee1e",
   "metadata": {},
   "source": [
    "#####"
   ]
  },
  {
   "cell_type": "markdown",
   "id": "dbe171a3-3450-4098-91ab-95ecc80b5ceb",
   "metadata": {},
   "source": [
    "##### normalizing X"
   ]
  },
  {
   "cell_type": "code",
   "execution_count": 23,
   "id": "a8723ff4-f383-41b7-9f04-203ec9b734df",
   "metadata": {},
   "outputs": [],
   "source": [
    "from sklearn import preprocessing"
   ]
  },
  {
   "cell_type": "code",
   "execution_count": 24,
   "id": "691ed5b0-ab06-4116-ae99-a3b5a69bae4e",
   "metadata": {},
   "outputs": [],
   "source": [
    "# creating scaler variable\n",
    "scaler = preprocessing.StandardScaler()"
   ]
  },
  {
   "cell_type": "code",
   "execution_count": 26,
   "id": "73c929c3-ef2d-4123-b6d6-9699391dc5eb",
   "metadata": {},
   "outputs": [],
   "source": [
    "# using the scaler to fit and transform X values\n",
    "X_scaled = scaler.fit_transform(X)"
   ]
  },
  {
   "cell_type": "code",
   "execution_count": 27,
   "id": "117eef40-8d50-4adf-b40c-e9ab48f78c22",
   "metadata": {},
   "outputs": [
    {
     "data": {
      "text/plain": [
       "array([[-0.57798657, -0.02709151,  0.58994292],\n",
       "       [ 1.84942581,  1.60407283,  1.18920774],\n",
       "       [-0.70919805,  0.39842962,  0.52335794],\n",
       "       ...,\n",
       "       [-0.05314065,  1.10763151,  1.12262276],\n",
       "       [ 0.79973397,  0.11474887, -0.47541676],\n",
       "       [-0.64359231, -1.65825585, -1.60736142]])"
      ]
     },
     "execution_count": 27,
     "metadata": {},
     "output_type": "execute_result"
    }
   ],
   "source": [
    "# viewing X_scaled\n",
    "X_scaled"
   ]
  },
  {
   "cell_type": "markdown",
   "id": "56364ca8-ed59-4053-aabd-fbc0243c3de5",
   "metadata": {},
   "source": [
    "####"
   ]
  },
  {
   "cell_type": "markdown",
   "id": "faa6ee80-e6a3-4d69-99ad-91a500454d38",
   "metadata": {},
   "source": [
    "##### training and testing the data"
   ]
  },
  {
   "cell_type": "code",
   "execution_count": 28,
   "id": "ce9315d5-f4d0-4b1b-9a8e-1d4a45b61be6",
   "metadata": {},
   "outputs": [],
   "source": [
    "from sklearn import model_selection"
   ]
  },
  {
   "cell_type": "code",
   "execution_count": 29,
   "id": "e8a8e357-650d-4c30-aaa7-d117d8db35ad",
   "metadata": {},
   "outputs": [],
   "source": [
    "# initializing trainer\n",
    "trainer = model_selection.train_test_split"
   ]
  },
  {
   "cell_type": "code",
   "execution_count": 30,
   "id": "7bc8bb10-da05-4d77-a3a5-0166a1ae47fe",
   "metadata": {},
   "outputs": [],
   "source": [
    "X_train, X_test, y_train, y_test = trainer(X_scaled, y, test_size = 0.3, random_state = 777)"
   ]
  },
  {
   "cell_type": "code",
   "execution_count": 31,
   "id": "38ba23a7-d3a8-4cb7-9d03-c80948b38b54",
   "metadata": {},
   "outputs": [
    {
     "data": {
      "text/plain": [
       "array([[-0.90601527, -1.01997415, -0.6751717 ],\n",
       "       [-0.18435213,  0.96579113,  1.12262276],\n",
       "       [-0.44677509, -0.02709151,  0.25701802],\n",
       "       ...,\n",
       "       [ 1.45579137,  1.67499302,  1.58871762],\n",
       "       [ 0.27488805, -0.23985208, -0.3422468 ],\n",
       "       [-1.62767841, -0.87813378, -0.60858672]])"
      ]
     },
     "execution_count": 31,
     "metadata": {},
     "output_type": "execute_result"
    }
   ],
   "source": [
    "# viewing X_train\n",
    "X_train"
   ]
  },
  {
   "cell_type": "markdown",
   "id": "812f22a6-67a6-4f69-a4ff-d6cdd84e61f0",
   "metadata": {},
   "source": [
    "####"
   ]
  },
  {
   "cell_type": "markdown",
   "id": "6bc77fca-3dd2-4361-bb70-88bbd05a9ea9",
   "metadata": {},
   "source": [
    "##### setting up logistic regression model"
   ]
  },
  {
   "cell_type": "code",
   "execution_count": 32,
   "id": "313370f5-6004-4b8d-9298-2d9dc42972da",
   "metadata": {},
   "outputs": [],
   "source": [
    "from sklearn import linear_model"
   ]
  },
  {
   "cell_type": "code",
   "execution_count": 33,
   "id": "0190701b-6894-4375-900e-312bfb516e05",
   "metadata": {},
   "outputs": [],
   "source": [
    "# initializing logistic regression model\n",
    "lr = linear_model.LogisticRegression()"
   ]
  },
  {
   "cell_type": "code",
   "execution_count": 34,
   "id": "1ccf32f0-1a84-4e37-bf51-298c19d218f7",
   "metadata": {},
   "outputs": [
    {
     "data": {
      "text/html": [
       "<style>#sk-container-id-1 {color: black;background-color: white;}#sk-container-id-1 pre{padding: 0;}#sk-container-id-1 div.sk-toggleable {background-color: white;}#sk-container-id-1 label.sk-toggleable__label {cursor: pointer;display: block;width: 100%;margin-bottom: 0;padding: 0.3em;box-sizing: border-box;text-align: center;}#sk-container-id-1 label.sk-toggleable__label-arrow:before {content: \"▸\";float: left;margin-right: 0.25em;color: #696969;}#sk-container-id-1 label.sk-toggleable__label-arrow:hover:before {color: black;}#sk-container-id-1 div.sk-estimator:hover label.sk-toggleable__label-arrow:before {color: black;}#sk-container-id-1 div.sk-toggleable__content {max-height: 0;max-width: 0;overflow: hidden;text-align: left;background-color: #f0f8ff;}#sk-container-id-1 div.sk-toggleable__content pre {margin: 0.2em;color: black;border-radius: 0.25em;background-color: #f0f8ff;}#sk-container-id-1 input.sk-toggleable__control:checked~div.sk-toggleable__content {max-height: 200px;max-width: 100%;overflow: auto;}#sk-container-id-1 input.sk-toggleable__control:checked~label.sk-toggleable__label-arrow:before {content: \"▾\";}#sk-container-id-1 div.sk-estimator input.sk-toggleable__control:checked~label.sk-toggleable__label {background-color: #d4ebff;}#sk-container-id-1 div.sk-label input.sk-toggleable__control:checked~label.sk-toggleable__label {background-color: #d4ebff;}#sk-container-id-1 input.sk-hidden--visually {border: 0;clip: rect(1px 1px 1px 1px);clip: rect(1px, 1px, 1px, 1px);height: 1px;margin: -1px;overflow: hidden;padding: 0;position: absolute;width: 1px;}#sk-container-id-1 div.sk-estimator {font-family: monospace;background-color: #f0f8ff;border: 1px dotted black;border-radius: 0.25em;box-sizing: border-box;margin-bottom: 0.5em;}#sk-container-id-1 div.sk-estimator:hover {background-color: #d4ebff;}#sk-container-id-1 div.sk-parallel-item::after {content: \"\";width: 100%;border-bottom: 1px solid gray;flex-grow: 1;}#sk-container-id-1 div.sk-label:hover label.sk-toggleable__label {background-color: #d4ebff;}#sk-container-id-1 div.sk-serial::before {content: \"\";position: absolute;border-left: 1px solid gray;box-sizing: border-box;top: 0;bottom: 0;left: 50%;z-index: 0;}#sk-container-id-1 div.sk-serial {display: flex;flex-direction: column;align-items: center;background-color: white;padding-right: 0.2em;padding-left: 0.2em;position: relative;}#sk-container-id-1 div.sk-item {position: relative;z-index: 1;}#sk-container-id-1 div.sk-parallel {display: flex;align-items: stretch;justify-content: center;background-color: white;position: relative;}#sk-container-id-1 div.sk-item::before, #sk-container-id-1 div.sk-parallel-item::before {content: \"\";position: absolute;border-left: 1px solid gray;box-sizing: border-box;top: 0;bottom: 0;left: 50%;z-index: -1;}#sk-container-id-1 div.sk-parallel-item {display: flex;flex-direction: column;z-index: 1;position: relative;background-color: white;}#sk-container-id-1 div.sk-parallel-item:first-child::after {align-self: flex-end;width: 50%;}#sk-container-id-1 div.sk-parallel-item:last-child::after {align-self: flex-start;width: 50%;}#sk-container-id-1 div.sk-parallel-item:only-child::after {width: 0;}#sk-container-id-1 div.sk-dashed-wrapped {border: 1px dashed gray;margin: 0 0.4em 0.5em 0.4em;box-sizing: border-box;padding-bottom: 0.4em;background-color: white;}#sk-container-id-1 div.sk-label label {font-family: monospace;font-weight: bold;display: inline-block;line-height: 1.2em;}#sk-container-id-1 div.sk-label-container {text-align: center;}#sk-container-id-1 div.sk-container {/* jupyter's `normalize.less` sets `[hidden] { display: none; }` but bootstrap.min.css set `[hidden] { display: none !important; }` so we also need the `!important` here to be able to override the default hidden behavior on the sphinx rendered scikit-learn.org. See: https://github.com/scikit-learn/scikit-learn/issues/21755 */display: inline-block !important;position: relative;}#sk-container-id-1 div.sk-text-repr-fallback {display: none;}</style><div id=\"sk-container-id-1\" class=\"sk-top-container\"><div class=\"sk-text-repr-fallback\"><pre>LogisticRegression()</pre><b>In a Jupyter environment, please rerun this cell to show the HTML representation or trust the notebook. <br />On GitHub, the HTML representation is unable to render, please try loading this page with nbviewer.org.</b></div><div class=\"sk-container\" hidden><div class=\"sk-item\"><div class=\"sk-estimator sk-toggleable\"><input class=\"sk-toggleable__control sk-hidden--visually\" id=\"sk-estimator-id-1\" type=\"checkbox\" checked><label for=\"sk-estimator-id-1\" class=\"sk-toggleable__label sk-toggleable__label-arrow\">LogisticRegression</label><div class=\"sk-toggleable__content\"><pre>LogisticRegression()</pre></div></div></div></div></div>"
      ],
      "text/plain": [
       "LogisticRegression()"
      ]
     },
     "execution_count": 34,
     "metadata": {},
     "output_type": "execute_result"
    }
   ],
   "source": [
    "# training the model\n",
    "lr.fit(X_train, y_train)"
   ]
  },
  {
   "cell_type": "code",
   "execution_count": 35,
   "id": "ad70a89d-f30c-40ee-b7d1-e11f5b2fdc66",
   "metadata": {},
   "outputs": [
    {
     "data": {
      "text/plain": [
       "array([[-0.34326667, -1.4916563 ,  2.52415883]])"
      ]
     },
     "execution_count": 35,
     "metadata": {},
     "output_type": "execute_result"
    }
   ],
   "source": [
    "# finding coefficients\n",
    "lr.coef_"
   ]
  },
  {
   "cell_type": "markdown",
   "id": "9f447912-3aef-4065-817a-aafa07927d17",
   "metadata": {},
   "source": [
    "##### 'writing score' has the strongest relationship with if a student prepped or not out of all our X/predictor variables"
   ]
  },
  {
   "cell_type": "code",
   "execution_count": 39,
   "id": "a70e2c6a-8f8a-424a-84ec-9dbb8c601c7e",
   "metadata": {},
   "outputs": [],
   "source": [
    "# make predictions\n",
    "predictions = lr.predict(X_test)"
   ]
  },
  {
   "cell_type": "markdown",
   "id": "a88d28d9-2da3-457c-8f23-bd105139353f",
   "metadata": {},
   "source": [
    "####"
   ]
  },
  {
   "cell_type": "markdown",
   "id": "edd174c1-53c6-4218-8bd4-cf69bdbd6e59",
   "metadata": {},
   "source": [
    "##### evaluation the model"
   ]
  },
  {
   "cell_type": "code",
   "execution_count": 40,
   "id": "d4f64bb8-c8d2-41aa-a9d3-0632b506b9cd",
   "metadata": {},
   "outputs": [],
   "source": [
    "from sklearn import metrics"
   ]
  },
  {
   "cell_type": "code",
   "execution_count": 41,
   "id": "cd45c77f-9d7c-4d32-911c-268a4c496bf7",
   "metadata": {},
   "outputs": [
    {
     "data": {
      "text/plain": [
       "0.6933333333333334"
      ]
     },
     "execution_count": 41,
     "metadata": {},
     "output_type": "execute_result"
    }
   ],
   "source": [
    "scorer = metrics.accuracy_score\n",
    "accuracy = scorer(y_test, predictions)\n",
    "accuracy"
   ]
  },
  {
   "cell_type": "markdown",
   "id": "2b46c657-b7b6-4c06-9415-43e34cfe4ee5",
   "metadata": {},
   "source": [
    "##### accuracy of the model is 69.33%. the model predicted whether a student prepped or not correctly 69.33% of the time"
   ]
  },
  {
   "cell_type": "code",
   "execution_count": 42,
   "id": "4dc98adf-78a5-4022-9b42-d654e7d4080c",
   "metadata": {},
   "outputs": [
    {
     "name": "stdout",
     "output_type": "stream",
     "text": [
      "              precision    recall  f1-score   support\n",
      "\n",
      "           0       0.70      0.87      0.78       185\n",
      "           1       0.66      0.41      0.51       115\n",
      "\n",
      "    accuracy                           0.69       300\n",
      "   macro avg       0.68      0.64      0.64       300\n",
      "weighted avg       0.69      0.69      0.67       300\n",
      "\n"
     ]
    }
   ],
   "source": [
    "# classification report\n",
    "reporter = metrics.classification_report\n",
    "print(reporter(y_test, predictions))"
   ]
  },
  {
   "cell_type": "markdown",
   "id": "fb1f25ac-7926-4b15-8961-cf62c9fd2b6d",
   "metadata": {},
   "source": [
    "##### interpretation:\n",
    "\n",
    "##### classes: 0 = Not Prepped, 1 = Prepped\n",
    "\n",
    "#### Performance Metrics:\n",
    "\n",
    "#####  Precision: Among students who did not prep, the precision was 0.70 meaning that when the model predicted a student did not prep, it was correct 70% of the time. Likewise, the precision score for students who prepped was 66%, meaning that when the model predicted a student prepped, it was correct 66% of the time\n",
    "\n",
    "##### Recall: The recall for the students who did not prep was 0.87 meaning that the model correctly identifies 87% of the students who did not prep. Likewise, the recall of 41% (quite low) for students who prep means that the model correctly identifies 41% of the students who actually prepped\n",
    "\n",
    "##### F1 Score: Given the F1 score and the other metrics, the student works best when predicting students who did not prep than students who prepped for their exams."
   ]
  },
  {
   "cell_type": "code",
   "execution_count": 43,
   "id": "c213ce48-65f2-4281-b835-8fe8f9fbc99a",
   "metadata": {},
   "outputs": [
    {
     "name": "stdout",
     "output_type": "stream",
     "text": [
      "[[161  24]\n",
      " [ 68  47]]\n"
     ]
    }
   ],
   "source": [
    "# confusion matrix\n",
    "matrix = metrics.confusion_matrix\n",
    "print(matrix(y_test, predictions))"
   ]
  },
  {
   "cell_type": "markdown",
   "id": "0f071d13-02c5-4c42-b007-28063985dae0",
   "metadata": {},
   "source": [
    "##### interpretation:\n",
    "\n",
    "##### 161 represents the number of students the model predicted not to have prepped and did not prep\n",
    "##### 24 represents the number of students the model predicted to have prepped but did not prep\n",
    "##### 68 represents the number of students the model predicted not to have prepped but did prep\n",
    "##### 47 represents the number of students the model predicted to have prepped and did prep"
   ]
  },
  {
   "cell_type": "code",
   "execution_count": 53,
   "id": "e6c076e6-ed17-4fca-b788-f02419c0d943",
   "metadata": {
    "scrolled": true
   },
   "outputs": [
    {
     "data": {
      "image/png": "[encoded data removed]",
      "text/plain": [
       "<Figure size 800x600 with 2 Axes>"
      ]
     },
     "metadata": {},
     "output_type": "display_data"
    }
   ],
   "source": [
    "# confusion matrix visualization\n",
    "cm = [[161,24],[68,47]]\n",
    "plt.figure(figsize = (8,6))\n",
    "sns.heatmap(cm, cmap = 'Blues', xticklabels = ['Predicted not prepped', 'Predicted prepped'], yticklabels = ['Actually did not prep', 'Actually prepped'])\n",
    "plt.xlabel('Predicted')\n",
    "plt.ylabel('Actual')\n",
    "plt.title('Confusion Matrix Visualization')\n",
    "plt.show()\n"
   ]
  },
  {
   "cell_type": "markdown",
   "id": "8962463d-f950-41ec-bf97-a7d2e93a2df7",
   "metadata": {},
   "source": [
    "## Given that reading is analogous to writing, can we predicted a student's reading score based on their writing and math score? (LINEAR REGRESSION)"
   ]
  },
  {
   "cell_type": "markdown",
   "id": "881e7080-94ae-45f2-a0b3-3a6d46543931",
   "metadata": {},
   "source": [
    "###"
   ]
  },
  {
   "cell_type": "code",
   "execution_count": 57,
   "id": "6f4610f2-b59c-49d7-a5c8-370d4fb3eac7",
   "metadata": {},
   "outputs": [
    {
     "data": {
      "image/png": "[encoded data removed]",
      "text/plain": [
       "<Figure size 300x300 with 1 Axes>"
      ]
     },
     "metadata": {},
     "output_type": "display_data"
    }
   ],
   "source": [
    "# using line plot to find similarities between reading and writing\n",
    "sns.lmplot(x = 'writing_score', y = 'reading_score', data = exams, scatter_kws = {'alpha':0.5}, height = 3)\n",
    "plt.title('Reading Score vs Writing Score')\n",
    "plt.xlabel('Writing Score')\n",
    "plt.ylabel('Reading Score')\n",
    "plt.show()"
   ]
  },
  {
   "cell_type": "markdown",
   "id": "b964b223-bf63-4168-8bcd-587717f8ec6c",
   "metadata": {},
   "source": [
    "##### not surprising there is a direct,` positive linear relationship between reading and writing"
   ]
  },
  {
   "cell_type": "markdown",
   "id": "080451b8-2f5d-46ca-b6cf-74a754ffc513",
   "metadata": {},
   "source": [
    "#####"
   ]
  },
  {
   "cell_type": "markdown",
   "id": "e736d363-9b15-4c87-a9a9-8f9a326bd124",
   "metadata": {},
   "source": [
    "##### splitting the exams data into X (independent) and y (dependent) variables"
   ]
  },
  {
   "cell_type": "code",
   "execution_count": 58,
   "id": "27e9f1c0-b9aa-4356-9817-67082b1c9b72",
   "metadata": {},
   "outputs": [],
   "source": [
    "from sklearn import model_selection"
   ]
  },
  {
   "cell_type": "code",
   "execution_count": 59,
   "id": "e38be705-5516-411c-91ce-ed7e7cea93a8",
   "metadata": {},
   "outputs": [],
   "source": [
    "trainer = model_selection.train_test_split"
   ]
  },
  {
   "cell_type": "code",
   "execution_count": 60,
   "id": "ca503efc-5a10-4cc6-a3e6-acc493e5c4f3",
   "metadata": {},
   "outputs": [],
   "source": [
    "X = exams[['math_score','writing_score']]\n",
    "y = exams['reading_score']"
   ]
  },
  {
   "cell_type": "code",
   "execution_count": 61,
   "id": "afad096e-957b-489a-bd56-a40d4afc81ac",
   "metadata": {},
   "outputs": [],
   "source": [
    "X_train, X_test, y_train, y_test = trainer(X, y, test_size = 0.3, random_state = 555)"
   ]
  },
  {
   "cell_type": "markdown",
   "id": "04d34b03-3da1-438b-9192-805e59c04bbe",
   "metadata": {},
   "source": [
    "####"
   ]
  },
  {
   "cell_type": "markdown",
   "id": "f60904d2-bb27-425f-bedf-1fe93e8da638",
   "metadata": {},
   "source": [
    "##### linear regression model"
   ]
  },
  {
   "cell_type": "code",
   "execution_count": 62,
   "id": "2f3e0cdf-32fc-468b-a8f7-20beb15d00b1",
   "metadata": {},
   "outputs": [],
   "source": [
    "from sklearn import linear_model"
   ]
  },
  {
   "cell_type": "code",
   "execution_count": 63,
   "id": "a80f7b3b-215b-4d77-b067-1def8f85afd8",
   "metadata": {},
   "outputs": [],
   "source": [
    "# initializing linear regression model\n",
    "lm = linear_model.LinearRegression()"
   ]
  },
  {
   "cell_type": "code",
   "execution_count": 64,
   "id": "a06fc7c4-bfb1-4f37-ba09-71e21c57f1cd",
   "metadata": {},
   "outputs": [
    {
     "data": {
      "text/html": [
       "<style>#sk-container-id-2 {color: black;background-color: white;}#sk-container-id-2 pre{padding: 0;}#sk-container-id-2 div.sk-toggleable {background-color: white;}#sk-container-id-2 label.sk-toggleable__label {cursor: pointer;display: block;width: 100%;margin-bottom: 0;padding: 0.3em;box-sizing: border-box;text-align: center;}#sk-container-id-2 label.sk-toggleable__label-arrow:before {content: \"▸\";float: left;margin-right: 0.25em;color: #696969;}#sk-container-id-2 label.sk-toggleable__label-arrow:hover:before {color: black;}#sk-container-id-2 div.sk-estimator:hover label.sk-toggleable__label-arrow:before {color: black;}#sk-container-id-2 div.sk-toggleable__content {max-height: 0;max-width: 0;overflow: hidden;text-align: left;background-color: #f0f8ff;}#sk-container-id-2 div.sk-toggleable__content pre {margin: 0.2em;color: black;border-radius: 0.25em;background-color: #f0f8ff;}#sk-container-id-2 input.sk-toggleable__control:checked~div.sk-toggleable__content {max-height: 200px;max-width: 100%;overflow: auto;}#sk-container-id-2 input.sk-toggleable__control:checked~label.sk-toggleable__label-arrow:before {content: \"▾\";}#sk-container-id-2 div.sk-estimator input.sk-toggleable__control:checked~label.sk-toggleable__label {background-color: #d4ebff;}#sk-container-id-2 div.sk-label input.sk-toggleable__control:checked~label.sk-toggleable__label {background-color: #d4ebff;}#sk-container-id-2 input.sk-hidden--visually {border: 0;clip: rect(1px 1px 1px 1px);clip: rect(1px, 1px, 1px, 1px);height: 1px;margin: -1px;overflow: hidden;padding: 0;position: absolute;width: 1px;}#sk-container-id-2 div.sk-estimator {font-family: monospace;background-color: #f0f8ff;border: 1px dotted black;border-radius: 0.25em;box-sizing: border-box;margin-bottom: 0.5em;}#sk-container-id-2 div.sk-estimator:hover {background-color: #d4ebff;}#sk-container-id-2 div.sk-parallel-item::after {content: \"\";width: 100%;border-bottom: 1px solid gray;flex-grow: 1;}#sk-container-id-2 div.sk-label:hover label.sk-toggleable__label {background-color: #d4ebff;}#sk-container-id-2 div.sk-serial::before {content: \"\";position: absolute;border-left: 1px solid gray;box-sizing: border-box;top: 0;bottom: 0;left: 50%;z-index: 0;}#sk-container-id-2 div.sk-serial {display: flex;flex-direction: column;align-items: center;background-color: white;padding-right: 0.2em;padding-left: 0.2em;position: relative;}#sk-container-id-2 div.sk-item {position: relative;z-index: 1;}#sk-container-id-2 div.sk-parallel {display: flex;align-items: stretch;justify-content: center;background-color: white;position: relative;}#sk-container-id-2 div.sk-item::before, #sk-container-id-2 div.sk-parallel-item::before {content: \"\";position: absolute;border-left: 1px solid gray;box-sizing: border-box;top: 0;bottom: 0;left: 50%;z-index: -1;}#sk-container-id-2 div.sk-parallel-item {display: flex;flex-direction: column;z-index: 1;position: relative;background-color: white;}#sk-container-id-2 div.sk-parallel-item:first-child::after {align-self: flex-end;width: 50%;}#sk-container-id-2 div.sk-parallel-item:last-child::after {align-self: flex-start;width: 50%;}#sk-container-id-2 div.sk-parallel-item:only-child::after {width: 0;}#sk-container-id-2 div.sk-dashed-wrapped {border: 1px dashed gray;margin: 0 0.4em 0.5em 0.4em;box-sizing: border-box;padding-bottom: 0.4em;background-color: white;}#sk-container-id-2 div.sk-label label {font-family: monospace;font-weight: bold;display: inline-block;line-height: 1.2em;}#sk-container-id-2 div.sk-label-container {text-align: center;}#sk-container-id-2 div.sk-container {/* jupyter's `normalize.less` sets `[hidden] { display: none; }` but bootstrap.min.css set `[hidden] { display: none !important; }` so we also need the `!important` here to be able to override the default hidden behavior on the sphinx rendered scikit-learn.org. See: https://github.com/scikit-learn/scikit-learn/issues/21755 */display: inline-block !important;position: relative;}#sk-container-id-2 div.sk-text-repr-fallback {display: none;}</style><div id=\"sk-container-id-2\" class=\"sk-top-container\"><div class=\"sk-text-repr-fallback\"><pre>LinearRegression()</pre><b>In a Jupyter environment, please rerun this cell to show the HTML representation or trust the notebook. <br />On GitHub, the HTML representation is unable to render, please try loading this page with nbviewer.org.</b></div><div class=\"sk-container\" hidden><div class=\"sk-item\"><div class=\"sk-estimator sk-toggleable\"><input class=\"sk-toggleable__control sk-hidden--visually\" id=\"sk-estimator-id-2\" type=\"checkbox\" checked><label for=\"sk-estimator-id-2\" class=\"sk-toggleable__label sk-toggleable__label-arrow\">LinearRegression</label><div class=\"sk-toggleable__content\"><pre>LinearRegression()</pre></div></div></div></div></div>"
      ],
      "text/plain": [
       "LinearRegression()"
      ]
     },
     "execution_count": 64,
     "metadata": {},
     "output_type": "execute_result"
    }
   ],
   "source": [
    "# training the model\n",
    "lm.fit(X_train, y_train)"
   ]
  },
  {
   "cell_type": "code",
   "execution_count": 65,
   "id": "f7282583-6bfc-4d60-8b8a-b49b3ee1bc76",
   "metadata": {},
   "outputs": [
    {
     "data": {
      "text/plain": [
       "7.21055696311803"
      ]
     },
     "execution_count": 65,
     "metadata": {},
     "output_type": "execute_result"
    }
   ],
   "source": [
    "# finding model intercept\n",
    "lm.intercept_"
   ]
  },
  {
   "cell_type": "code",
   "execution_count": 88,
   "id": "e81a62e4-d852-43ca-b63b-a9227029f9bd",
   "metadata": {},
   "outputs": [
    {
     "data": {
      "text/plain": [
       "0.9066712111335863"
      ]
     },
     "execution_count": 88,
     "metadata": {},
     "output_type": "execute_result"
    }
   ],
   "source": [
    "# find model R-Squared\n",
    "lm.score(X_train, y_train)"
   ]
  },
  {
   "cell_type": "markdown",
   "id": "56c55b1a-f0cc-44aa-828b-4a0f738f7ad1",
   "metadata": {},
   "source": [
    "##### A big R-Squared of 0.906 suggests that about 90.6% of the variance in the dependent variable (reading score) can be explained the independent variables (math and writing scores), which is great!\n",
    "\n",
    "#####"
   ]
  },
  {
   "cell_type": "code",
   "execution_count": 67,
   "id": "93e0326c-dc9b-4f56-a24c-568ea31e4e87",
   "metadata": {},
   "outputs": [
    {
     "data": {
      "text/html": [
       "<div>\n",
       "<style scoped>\n",
       "    .dataframe tbody tr th:only-of-type {\n",
       "        vertical-align: middle;\n",
       "    }\n",
       "\n",
       "    .dataframe tbody tr th {\n",
       "        vertical-align: top;\n",
       "    }\n",
       "\n",
       "    .dataframe thead th {\n",
       "        text-align: right;\n",
       "    }\n",
       "</style>\n",
       "<table border=\"1\" class=\"dataframe\">\n",
       "  <thead>\n",
       "    <tr style=\"text-align: right;\">\n",
       "      <th></th>\n",
       "      <th>Coefficients</th>\n",
       "    </tr>\n",
       "  </thead>\n",
       "  <tbody>\n",
       "    <tr>\n",
       "      <th>math_score</th>\n",
       "      <td>0.148528</td>\n",
       "    </tr>\n",
       "    <tr>\n",
       "      <th>writing_score</th>\n",
       "      <td>0.768202</td>\n",
       "    </tr>\n",
       "  </tbody>\n",
       "</table>\n",
       "</div>"
      ],
      "text/plain": [
       "               Coefficients\n",
       "math_score         0.148528\n",
       "writing_score      0.768202"
      ]
     },
     "execution_count": 67,
     "metadata": {},
     "output_type": "execute_result"
    }
   ],
   "source": [
    "# finding model coefficients\n",
    "cdf = pd.DataFrame(lm.coef_, X.columns, columns = ['Coefficients'])\n",
    "cdf"
   ]
  },
  {
   "cell_type": "markdown",
   "id": "5d4d27a9-b425-4971-af09-6704ea7cf4d1",
   "metadata": {},
   "source": [
    "##### judging by the coefficients, writing score is not related to the reading score of a student at 0.768 which is 5 times higher than math score's coefficient"
   ]
  },
  {
   "cell_type": "code",
   "execution_count": 68,
   "id": "d6247ff4-05bc-4300-8563-06b665a797f5",
   "metadata": {},
   "outputs": [],
   "source": [
    "# making predictions\n",
    "predictions = lm.predict(X_test)"
   ]
  },
  {
   "cell_type": "code",
   "execution_count": 72,
   "id": "c6fa1ea0-4fba-490b-944f-9ff891dbdf7b",
   "metadata": {},
   "outputs": [
    {
     "data": {
      "image/png": "[encoded data removed]",
      "text/plain": [
       "<Figure size 640x480 with 1 Axes>"
      ]
     },
     "metadata": {},
     "output_type": "display_data"
    }
   ],
   "source": [
    "# scatterplot using histogram to compare the predictions to the actual data, y_test\n",
    "sns.scatterplot(x = predictions, y = y_test)\n",
    "plt.title('Predicted Reading Scores vs Actual Reading Scores')\n",
    "plt.xlabel('Predictions')\n",
    "plt.ylabel('Actual Scores')\n",
    "plt.show()"
   ]
  },
  {
   "cell_type": "markdown",
   "id": "13ab05c4-493e-4252-a0aa-63a215378acf",
   "metadata": {},
   "source": [
    "##### The appears to be a linear relationship between predicted reading scores and actual reading score, hinting at the model being very good at predicting the real scores students had for reading "
   ]
  },
  {
   "cell_type": "markdown",
   "id": "f886e26d-6377-4f5e-92fe-3c5daa763736",
   "metadata": {},
   "source": [
    "####"
   ]
  },
  {
   "cell_type": "markdown",
   "id": "954f3988-d430-417c-a1c5-d70c73e869cc",
   "metadata": {},
   "source": [
    "##### evaluating the model "
   ]
  },
  {
   "cell_type": "code",
   "execution_count": 76,
   "id": "aca8c02b-1cdd-45ad-b493-1d8515e9f9e6",
   "metadata": {},
   "outputs": [],
   "source": [
    "from sklearn import metrics\n",
    "import math"
   ]
  },
  {
   "cell_type": "code",
   "execution_count": 77,
   "id": "064f1794-1958-4041-868b-8fb895e33d45",
   "metadata": {},
   "outputs": [],
   "source": [
    "mae = metrics.mean_absolute_error\n",
    "mse = metrics.mean_squared_error"
   ]
  },
  {
   "cell_type": "code",
   "execution_count": 78,
   "id": "d2885188-68db-4976-8b11-4eb20f1a09f6",
   "metadata": {},
   "outputs": [
    {
     "name": "stdout",
     "output_type": "stream",
     "text": [
      "Model MSE is  16.992393307803102\n",
      "Model MAE is  3.283687206254643\n",
      "Model RMSE is  4.12218307548356\n"
     ]
    }
   ],
   "source": [
    "print('Model MSE is ', mse(y_test, predictions))\n",
    "print('Model MAE is ', mae(y_test, predictions))\n",
    "print('Model RMSE is ', math.sqrt(mse(y_test, predictions)))"
   ]
  },
  {
   "cell_type": "markdown",
   "id": "0f80d958-b6b5-4f69-9854-ba4018588280",
   "metadata": {},
   "source": [
    "####"
   ]
  },
  {
   "cell_type": "markdown",
   "id": "51519367-16f5-45cd-83e3-2795964d37c4",
   "metadata": {},
   "source": [
    "##### calcualting and plotting residuals"
   ]
  },
  {
   "cell_type": "markdown",
   "id": "177c15d7-1f6b-4cd0-a7fd-6203d7b64349",
   "metadata": {},
   "source": [
    "   ##### MSE (16.99): This value indicates that, on average, the squared errors between the actual and predicted reading scores are about 16.99. Because the errors are squared, this metric disproportionately weights larger errors, making it sensitive to outliers.\n",
    "   ##### MAE (3.28): This value suggests that, on average, the model's predictions are off by about 3.28 points from the actual reading scores. MAE is a more direct measure of average error and is less sensitive to outliers compared to MSE and RMSE.\n",
    "   ##### RMSE (4.12): This value indicates that the typical deviation (in the same units as the reading scores) of the predicted scores from the actual scores is about 4.12. RMSE provides a balance between the interpretability of MAE and the sensitivity to larger errors of MSE."
   ]
  },
  {
   "cell_type": "code",
   "execution_count": 81,
   "id": "eac2920b-06ef-4396-ae6b-45e6039a67c1",
   "metadata": {},
   "outputs": [],
   "source": [
    "#residuals = actual values - predictions\n",
    "residuals = y_test - predictions"
   ]
  },
  {
   "cell_type": "code",
   "execution_count": 84,
   "id": "1dd3d384-7913-4552-8a8d-32d361dab315",
   "metadata": {},
   "outputs": [
    {
     "name": "stderr",
     "output_type": "stream",
     "text": [
      "/opt/anaconda3/lib/python3.11/site-packages/seaborn/_oldcore.py:1119: FutureWarning: use_inf_as_na option is deprecated and will be removed in a future version. Convert inf values to NaN before operating instead.\n",
      "  with pd.option_context('mode.use_inf_as_na', True):\n"
     ]
    },
    {
     "data": {
      "image/png": "[encoded data removed]",
      "text/plain": [
       "<Figure size 640x480 with 1 Axes>"
      ]
     },
     "metadata": {},
     "output_type": "display_data"
    }
   ],
   "source": [
    "# using a histogram to plot residual values and check if they are normally distributed\n",
    "sns.histplot(residuals, kde = True)\n",
    "plt.title('Residuals Distribution')\n",
    "plt.xlabel('Residuals')\n",
    "plt.ylabel('Frequency')\n",
    "plt.show()"
   ]
  },
  {
   "cell_type": "markdown",
   "id": "2b4c6786-09d5-44ed-b822-e634154cd721",
   "metadata": {},
   "source": [
    "##### The residuals plot of a regression model is normally distributed, it provides confidence in the validity and reliability of the model's estimates and inferences\n",
    "\n",
    "##### it suggests that the assumptions of the linear regression model are met, and the model is likely to provide reliable estimates and valid inferences"
   ]
  },
  {
   "cell_type": "markdown",
   "id": "1932b955-f0f4-463b-8aa5-8e53f056ccbc",
   "metadata": {},
   "source": [
    "####"
   ]
  },
  {
   "cell_type": "markdown",
   "id": "cb52377b-0b29-4a08-a074-88e4e15f85c4",
   "metadata": {},
   "source": [
    "##### QQ Plot "
   ]
  },
  {
   "cell_type": "code",
   "execution_count": 85,
   "id": "feb7a719-876b-43f8-95a7-f15d3df1e3a4",
   "metadata": {},
   "outputs": [],
   "source": [
    "import scipy.stats as stats\n",
    "import pylab"
   ]
  },
  {
   "cell_type": "code",
   "execution_count": 87,
   "id": "dcaf5b02-fc30-4089-9935-d7415d627e89",
   "metadata": {
    "scrolled": true
   },
   "outputs": [
    {
     "data": {
      "image/png": "[encoded data removed]",
      "text/plain": [
       "<Figure size 640x480 with 1 Axes>"
      ]
     },
     "metadata": {},
     "output_type": "display_data"
    }
   ],
   "source": [
    "stats.probplot(residuals, dist = 'norm', plot = pylab)\n",
    "pylab.show()"
   ]
  },
  {
   "cell_type": "markdown",
   "id": "28ce2b09-4387-4405-aa57-1e8a9fe90771",
   "metadata": {},
   "source": [
    "#### Interpretation: The Q-Q plot shows a near-perfect linear relationship between the theoretical quantiles and the ordered values, indicating that the data closely follows the theoretical distribution"
   ]
  },
  {
   "cell_type": "markdown",
   "id": "eeeab5c7-7ae7-417f-91f4-46ea9135f7ba",
   "metadata": {},
   "source": [
    "#\n",
    "#"
   ]
  },
  {
   "cell_type": "markdown",
   "id": "a85d76f6-16eb-4a28-86d6-add2eabb7a9f",
   "metadata": {
    "jp-MarkdownHeadingCollapsed": true
   },
   "source": [
    "##### NOTE: HYPOTHESIS TESTING IS IN THE R-FILES\n",
    "#"
   ]
  }
 ],
 "metadata": {
  "kernelspec": {
   "display_name": "Python 3 (ipykernel)",
   "language": "python",
   "name": "python3"
  },
  "language_info": {
   "codemirror_mode": {
    "name": "ipython",
    "version": 3
   },
   "file_extension": ".py",
   "mimetype": "text/x-python",
   "name": "python",
   "nbconvert_exporter": "python",
   "pygments_lexer": "ipython3",
   "version": "3.11.7"
  }
 },
 "nbformat": 4,
 "nbformat_minor": 5
}
